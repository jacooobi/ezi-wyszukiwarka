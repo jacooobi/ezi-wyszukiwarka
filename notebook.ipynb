{
 "cells": [
  {
   "cell_type": "code",
   "execution_count": 129,
   "metadata": {},
   "outputs": [],
   "source": [
    "def read_file(name):\n",
    "    with open(name) as f:\n",
    "        data = f.read()\n",
    "    return data\n",
    "        \n",
    "documents_data = read_file('documents.txt')\n",
    "keywords_data = read_file('keywords.txt')\n",
    "\n",
    "def sum_squared(values):\n",
    "    return reduce(lambda x, y: x + y, map(lambda x: x ** 2, list(values)))"
   ]
  },
  {
   "cell_type": "code",
   "execution_count": 85,
   "metadata": {},
   "outputs": [],
   "source": [
    "# create documents\n",
    "from nltk import word_tokenize\n",
    "from nltk.stem import *\n",
    "\n",
    "docs = documents_data.split('\\n\\n')\n",
    "documents = []\n",
    "\n",
    "for i, doc in enumerate(docs): \n",
    "    doc_data = doc.split('\\n')\n",
    "    title = doc_data[0]\n",
    "    body = ' '.join(doc_data[1:len(doc_data)])\n",
    "\n",
    "    words = word_tokenize(doc)\n",
    "    words = [word for word in words if word.isalpha()]\n",
    "    tokens = [stemmer.stem(word) for word in words]\n",
    "                        \n",
    "    documents.append({'idx': i, 'title': title, 'body': body, 'tokens': tokens})"
   ]
  },
  {
   "cell_type": "code",
   "execution_count": 86,
   "metadata": {},
   "outputs": [],
   "source": [
    "# create keywords \n",
    "keywords = word_tokenize(keywords_data)\n",
    "keywords = [word for word in keywords if word.isalpha()]\n",
    "keywords = [stemmer.stem(word) for word in keywords]\n",
    "\n",
    "keywords_vector = {}\n",
    "\n",
    "for keyword in keywords: \n",
    "    keywords_vector[keyword]= 0\n",
    "    "
   ]
  },
  {
   "cell_type": "code",
   "execution_count": null,
   "metadata": {},
   "outputs": [],
   "source": [
    "# create bag of words\n",
    "bag_of_words = []\n",
    "\n",
    "for i, doc in enumerate(documents):\n",
    "    keywords_vec = keywords_vector.copy()\n",
    "    for token in doc['tokens']:\n",
    "        if token in keywords:\n",
    "            keywords_vec[token] += 1\n",
    "            \n",
    "    bag_of_words.append({'idx': i, 'vector': keywords_vec, 'max': max(keywords_vec.values())})\n",
    "    \n",
    "bag_of_words\n"
   ]
  },
  {
   "cell_type": "code",
   "execution_count": 130,
   "metadata": {},
   "outputs": [],
   "source": [
    "# tf representation\n",
    "from functools import reduce\n",
    "from math import sqrt\n",
    "tf = []\n",
    "\n",
    "for bag in bag_of_words:\n",
    "    idx = bag['idx']\n",
    "    vec = bag['vector']\n",
    "    max_n = bag['max']\n",
    "\n",
    "    keywords_vec = keywords_vector.copy()\n",
    "    \n",
    "    for key in vec.keys():\n",
    "        keywords_vec[key] = vec[key]/max_n\n",
    "    \n",
    "    vector_length = sqrt(sum_squared(keywords_vec.values()))\n",
    "    \n",
    "    tf.append({'idx': idx, 'vector': keywords_vec, 'vector_length': vector_length})\n",
    "    "
   ]
  },
  {
   "cell_type": "code",
   "execution_count": 132,
   "metadata": {},
   "outputs": [],
   "source": [
    "# idf representation\n",
    "from math import log10\n",
    "\n",
    "idf = keywords_vector.copy()\n",
    "\n",
    "document_count = len(documents)\n",
    "\n",
    "for key in idf.keys():\n",
    "    word_count = 0\n",
    "    \n",
    "    for doc in documents:\n",
    "        if key in doc['tokens']:\n",
    "            word_count += 1\n",
    "    \n",
    "    idf[key] = word_count / document_count\n"
   ]
  },
  {
   "cell_type": "code",
   "execution_count": 135,
   "metadata": {},
   "outputs": [],
   "source": [
    "# tfidf representation\n",
    "\n",
    "tfidf = []\n",
    "\n",
    "for i, doc in enumerate(tf):\n",
    "    keywords_vec = keywords_vector.copy()\n",
    "\n",
    "    for key in doc['vector'].keys():\n",
    "        keywords_vec[key] = doc['vector'][key] * idf[key]\n",
    "        \n",
    "    vector_length = sqrt(sum_squared(keywords_vec.values()))\n",
    "        \n",
    "    tfidf.append({'idx': i, 'vector': keywords_vec, 'vector_length': vector_length})\n",
    "    "
   ]
  },
  {
   "cell_type": "code",
   "execution_count": 124,
   "metadata": {},
   "outputs": [
    {
     "data": {
      "text/plain": [
       "88"
      ]
     },
     "execution_count": 124,
     "metadata": {},
     "output_type": "execute_result"
    }
   ],
   "source": []
  }
 ],
 "metadata": {
  "kernelspec": {
   "display_name": "Python 3",
   "language": "python",
   "name": "python3"
  },
  "language_info": {
   "codemirror_mode": {
    "name": "ipython",
    "version": 3
   },
   "file_extension": ".py",
   "mimetype": "text/x-python",
   "name": "python",
   "nbconvert_exporter": "python",
   "pygments_lexer": "ipython3",
   "version": "3.6.3"
  }
 },
 "nbformat": 4,
 "nbformat_minor": 2
}
